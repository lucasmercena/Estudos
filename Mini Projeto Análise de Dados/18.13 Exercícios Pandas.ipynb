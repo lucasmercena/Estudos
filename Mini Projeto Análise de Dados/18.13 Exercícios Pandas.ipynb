{
 "cells": [
  {
   "cell_type": "markdown",
   "metadata": {},
   "source": [
    "# Exercício - Mini Projeto de Análise de Dados\n",
    "\n",
    "Vamos fazer um exercício completo de pandas para um miniprojeto de análise de dados.\n",
    "\n",
    "Esse exercício vai obrigar a gente a usar boa parte dos conhecimento de pandas e até de outros módulos que já aprendemos ao longo do curso.\n",
    "\n",
    "### O que temos?\n",
    "\n",
    "Temos os dados de 2019 de uma empresa de prestação de serviços. \n",
    "\n",
    "- CadastroFuncionarios\n",
    "- CadastroClientes\n",
    "- BaseServiçosPrestados\n",
    "\n",
    "Obs1: Para ler arquivos csv, temos o read_csv<br>\n",
    "Obs2: Para ler arquivos xlsx (arquivos em excel normais, que não são padrão csv), temos o read_excel\n",
    "\n",
    "### O que queremos saber/fazer?\n",
    "\n",
    "1. Valor Total da Folha Salarial -> Qual foi o gasto total com salários de funcionários pela empresa? <br>\n",
    "    Sugestão: calcule o salário total de cada funcionário, salário + benefícios + impostos, depois some todos os salários\n",
    "    \n",
    "    \n",
    "2. Qual foi o faturamento da empresa?<br>\n",
    "    Sugestão: calcule o faturamento total de cada serviço e depois some o faturamento de todos\n",
    "    \n",
    "    \n",
    "3. Qual o % de funcionários que já fechou algum contrato?<br>\n",
    "    Sugestão: na base de serviços temos o funcionário que fechou cada serviço. Mas nem todos os funcionários que a empresa tem já fecharam algum serviço.<br>\n",
    "    . Na base de funcionários temos uma lista com todos os funcionários<br>\n",
    "    . Queremos calcular Qtde_Funcionarios_Fecharam_Serviço / Qtde_Funcionários_Totais<br>\n",
    "    . Para calcular a qtde de funcionários que fecharam algum serviço, use a base de serviços e conte quantos funcionários tem ali. Mas lembre-se, cada funcionário só pode ser contado uma única vez.<br><br>\n",
    "    Dica: se você aplicar o método .unique() em uma variável que é apenas 1 coluna de um dataframe, ele vai excluir todos os valores duplicados daquela coluna.<br>\n",
    "    Ex: unicos_colunaA = dataframe['colunaA'].unique() te dá como resposta uma lista com todos os itens da colunaA aparecendo uma única vez. Todos os valores repetidos da colunaA são excluidos da variável unicos_colunaA \n",
    "    \n",
    "    \n",
    "4. Calcule o total de contratos que cada área da empresa já fechou\n",
    "\n",
    "\n",
    "5. Calcule o total de funcionários por área\n",
    "\n",
    "\n",
    "6. Qual o ticket médio mensal (faturamento médio mensal) dos contratos?<br>\n",
    "    Dica: .mean() calcula a média -> exemplo: media_colunaA = dataframe['colunaA'].mean()\n",
    "\n",
    "Obs: Lembrando as opções mais usuais de encoding:<br>\n",
    "encoding='latin1', encoding='ISO-8859-1', encoding='utf-8' ou então encoding='cp1252'\n",
    "\n",
    "Observação Importante: Se o seu código der um erro na hora de importar os arquivos:<br>\n",
    "- CadastroClientes.csv\n",
    "- CadastroFuncionarios.csv\n",
    "\n",
    "Use separador \";\" (ponto e vírgula) para resolver"
   ]
  },
  {
   "cell_type": "code",
   "execution_count": 30,
   "metadata": {},
   "outputs": [
    {
     "name": "stdout",
     "output_type": "stream",
     "text": [
      "======================================================================\n",
      "     VALOR TOTAL GASTO PELA EMPRESA COM SALÁRIOS DOS FUNCIONÁRIOS     \n",
      "======================================================================\n",
      "Total da folha salarial mensal é de: R$ 2,717,493.22\n"
     ]
    }
   ],
   "source": [
    "import pandas as pd\n",
    "from openpyxl import load_workbook\n",
    "\n",
    "# Calculando a folha salarial da empresa (Qual foi o gasto total com salários de funcionários da empresa)\n",
    "\n",
    "funcionarios_df = pd.read_csv('CadastroFuncionarios.csv', sep=';', decimal=',')\n",
    "funcionarios_df['Gastos Totais'] = funcionarios_df['Salario Base'] + funcionarios_df['Impostos'] + funcionarios_df['Beneficios'] + funcionarios_df['VT'] + funcionarios_df['VR']\n",
    "folhaSalarial_df = funcionarios_df['Gastos Totais']\n",
    "print(\"=\" * 70)\n",
    "print(\"VALOR TOTAL GASTO PELA EMPRESA COM SALÁRIOS DOS FUNCIONÁRIOS\".center(70))\n",
    "print(\"=\" * 70)\n",
    "\n",
    "print(f\"Total da folha salarial mensal é de: R$ {folhaSalarial_df.sum():,}\")"
   ]
  },
  {
   "cell_type": "code",
   "execution_count": 31,
   "metadata": {},
   "outputs": [
    {
     "name": "stdout",
     "output_type": "stream",
     "text": [
      "======================================================================\n",
      "                     FATURAMENTO TOTAL DA EMPRESA                     \n",
      "======================================================================\n",
      "Fatutamento total: R$5,519,160\n"
     ]
    }
   ],
   "source": [
    "# Extraindo o faturamento total da empresa (Qual o faturamento da empresa?)\n",
    "\n",
    "dados_df = pd.read_excel('BaseServiçosPrestados.xlsx')\n",
    "cliente_df = pd.read_csv('CadastroClientes.csv', sep=';', decimal=',')\n",
    "dados_df = dados_df.merge(cliente_df, on='ID Cliente')\n",
    "dados_df['Faturamento Empresarial'] = dados_df['Tempo Total de Contrato (Meses)'] * dados_df['Valor Contrato Mensal']\n",
    "faturamentoTotal = dados_df['Faturamento Empresarial'].sum()\n",
    "print(\"=\" * 70)\n",
    "print(\"FATURAMENTO TOTAL DA EMPRESA\".center(70))\n",
    "print(\"=\" * 70)\n",
    "print(f\"Fatutamento total: R${faturamentoTotal:,}\")"
   ]
  },
  {
   "cell_type": "code",
   "execution_count": 32,
   "metadata": {},
   "outputs": [
    {
     "name": "stdout",
     "output_type": "stream",
     "text": [
      "======================================================================\n",
      "   O PERCENTUAL DE FUNCIONÁRIOS QUE JA FECHARAM SERVIÇOS NA EMPRESA   \n",
      "======================================================================\n",
      "Total de funcionários que ja fecharam serviços: 99\n",
      "Total de funcionário na empresa: 114\n",
      "O percentual de funcionários que ja fecharam serviços na empresa: 86.84%\n"
     ]
    }
   ],
   "source": [
    "# Analisando o % de funcionarios que ja fecharam algum serviço\n",
    "\n",
    "print(\"=\" * 70)\n",
    "print(\"O PERCENTUAL DE FUNCIONÁRIOS QUE JA FECHARAM SERVIÇOS NA EMPRESA\".center(70))\n",
    "print(\"=\" * 70)\n",
    "\n",
    "# Extraindo todos os funcionários que ja fecharam algum serviço\n",
    "servicos_df = pd.read_excel('BaseServiçosPrestados.xlsx')\n",
    "funcionarios_Serv_Fechado = servicos_df['ID Funcionário'].unique()\n",
    "print(f\"Total de funcionários que ja fecharam serviços: {len(funcionarios_Serv_Fechado)}\")\n",
    "\n",
    "# Estraindo todos os funcionários, sem nenhuma excessão \n",
    "funcionarios_total = len(funcionarios_df['ID Funcionário'])\n",
    "print(f\"Total de funcionário na empresa: {funcionarios_total}\")\n",
    "\n",
    "# Tirando o % dos funcionários que ja fecharam serviços\n",
    "percentual_Funcionarios = len(funcionarios_Serv_Fechado) / funcionarios_total\n",
    "print(f\"O percentual de funcionários que ja fecharam serviços na empresa: {percentual_Funcionarios:.2%}\")"
   ]
  },
  {
   "cell_type": "code",
   "execution_count": 48,
   "metadata": {},
   "outputs": [
    {
     "name": "stdout",
     "output_type": "stream",
     "text": [
      "======================================================================\n",
      "      QAUNTIDADE DE CONTRATOS FECHADOS POR CADA AREA DA EMPRESA       \n",
      "======================================================================\n"
     ]
    },
    {
     "data": {
      "text/plain": [
       "Administrativo    63\n",
       "Operações         48\n",
       "Comercial         44\n",
       "Financeiro        42\n",
       "Logística         40\n",
       "Name: Area, dtype: int64"
      ]
     },
     "metadata": {},
     "output_type": "display_data"
    }
   ],
   "source": [
    "# Calculando o total de contratos cada Area ja fechou\n",
    "\n",
    "novo_funcionarios_df = funcionarios_df[['ID Funcionário', 'Area']]\n",
    "novo_servicos_df = servicos_df['ID Funcionário']\n",
    "contratos_area = servicos_df[['ID Funcionário']].merge(novo_funcionarios_df, on='ID Funcionário')\n",
    "totalArea = contratos_area['Area'].value_counts()\n",
    "\n",
    "print(\"=\" * 70)\n",
    "print(\"QAUNTIDADE DE CONTRATOS FECHADOS POR CADA AREA DA EMPRESA\".center(70))\n",
    "print(\"=\" * 70)\n",
    "\n",
    "display(totalArea)"
   ]
  },
  {
   "cell_type": "code",
   "execution_count": 56,
   "metadata": {},
   "outputs": [
    {
     "name": "stdout",
     "output_type": "stream",
     "text": [
      "======================================================================\n",
      "              QUANTIDADE TOTAL DE FUNCIONÁRIOS POR AREA               \n",
      "======================================================================\n",
      "Administrativo    26\n",
      "Comercial         26\n",
      "Operações         23\n",
      "Logística         21\n",
      "Financeiro        18\n",
      "Name: Area, dtype: int64\n"
     ]
    },
    {
     "data": {
      "text/plain": [
       "<Axes: >"
      ]
     },
     "execution_count": 56,
     "metadata": {},
     "output_type": "execute_result"
    },
    {
     "data": {
      "image/png": "[encoded data removed]",
      "text/plain": [
       "<Figure size 300x200 with 1 Axes>"
      ]
     },
     "metadata": {},
     "output_type": "display_data"
    }
   ],
   "source": [
    "# Calculando a quantidade de funcionários por cada area\n",
    "\n",
    "qntd_funcionarios_area = funcionarios_df['Area'].value_counts()\n",
    "print(\"=\" * 70)\n",
    "print(\"QUANTIDADE TOTAL DE FUNCIONÁRIOS POR AREA\".center(70))\n",
    "print(\"=\" * 70)\n",
    "print(qntd_funcionarios_area)\n",
    "qntd_funcionarios_area.plot(kind='bar', figsize=(3, 2))"
   ]
  },
  {
   "cell_type": "code",
   "execution_count": 66,
   "metadata": {},
   "outputs": [
    {
     "name": "stdout",
     "output_type": "stream",
     "text": [
      "======================================================================\n",
      "                 FATURAMENTO MÉDIO MENSAL DA EMPRESA                  \n",
      "======================================================================\n",
      "O faturamento médio mensal da empresa: R$2,502.56\n"
     ]
    }
   ],
   "source": [
    "# Calculando o faturamento mensal da empresa\n",
    "\n",
    "# 1ª Forma de ralizar o cálculo\n",
    "\n",
    "total_faturamento = sum(cliente_df['Valor Contrato Mensal'])\n",
    "contrato_totais = len(cliente_df['Valor Contrato Mensal'])\n",
    "media = total_faturamento/contrato_totais\n",
    "\n",
    "# 2ª Forma de realizar o cálculo\n",
    "\n",
    "faturamento = cliente_df['Valor Contrato Mensal'].mean()\n",
    "\n",
    "# Printando valores\n",
    "\n",
    "print(\"=\" * 70)\n",
    "print(\"FATURAMENTO MÉDIO MENSAL DA EMPRESA\".center(70))\n",
    "print(\"=\" * 70)\n",
    "print(f\"O faturamento médio mensal da empresa: R${faturamento:,.2f}\")"
   ]
  }
 ],
 "metadata": {
  "kernelspec": {
   "display_name": "Python 3",
   "language": "python",
   "name": "python3"
  },
  "language_info": {
   "codemirror_mode": {
    "name": "ipython",
    "version": 3
   },
   "file_extension": ".py",
   "mimetype": "text/x-python",
   "name": "python",
   "nbconvert_exporter": "python",
   "pygments_lexer": "ipython3",
   "version": "3.8.3"
  }
 },
 "nbformat": 4,
 "nbformat_minor": 4
}
